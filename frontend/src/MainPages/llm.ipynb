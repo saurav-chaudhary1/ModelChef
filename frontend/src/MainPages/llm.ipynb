{
 "cells": [
  {
   "cell_type": "code",
   "execution_count": 3,
   "id": "9b914dde",
   "metadata": {},
   "outputs": [],
   "source": [
    "from groq import Groq\n",
    "from dotenv import load_dotenv\n",
    "import os\n",
    "# load_dotenv()\n",
    "# groq_api_key = os.environ.get(\"Groq_api_key\")\n",
    "# client = Groq(api_key=\"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\")\n",
    "\n",
    "# def groq_response(prompt , model , topP=0.1 , temperature=0.5 , maxTokens=1024):\n",
    "#     try:\n",
    "#         groq_convo = [{\"role\": \"user\", \"content\": prompt}]\n",
    "#         stream = client.chat.completions.create(\n",
    "#             messages=groq_convo , model=model , temperature=temperature , top_p=topP , max_tokens=maxTokens , stream=True\n",
    "#         )\n",
    "#         for chunk in stream:\n",
    "#             chunk_content = chunk.choices[0].delta.content\n",
    "#             if chunk_content:\n",
    "#                 print(chunk_content)\n",
    "#     except Exception as e:\n",
    "#         print(f\"Error : {str(e)}\")\n",
    "\n",
    "# groq_response(\"hii\" , \"llama-3.3-70b-versatile\")"
   ]
  },
  {
   "cell_type": "code",
   "execution_count": 7,
   "id": "5dcf5117",
   "metadata": {},
   "outputs": [
    {
     "name": "stdout",
     "output_type": "stream",
     "text": [
      "The\n",
      " capital\n",
      " of\n",
      " France\n",
      " is\n",
      " Paris\n",
      ".\n"
     ]
    }
   ],
   "source": [
    "groq_api_key = os.environ.get(\"Groq_api_key\")\n",
    "\n",
    "groq_client = Groq(api_key=\"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\")\n",
    "\n",
    "def groq_response(model , prompt , language):\n",
    "    try:\n",
    "        system_instruction = f\"Respond to all user prompts strictly in {language}. Do not use any other language.\"\n",
    "        groq_convo = [\n",
    "            {\"role\": \"system\", \"content\": system_instruction},\n",
    "            {\"role\": \"user\", \"content\": prompt}\n",
    "        ]\n",
    "        stream = groq_client.chat.completions.create(messages=groq_convo , model=model , stream=True)\n",
    "        for chunk in stream:\n",
    "            chunk_content = chunk.choices[0].delta.content\n",
    "            if chunk_content:\n",
    "                print(chunk_content)\n",
    "    except Exception as e:\n",
    "        print(f\"Error : {str(e)}\")\n",
    "\n",
    "groq_response(\"llama-3.3-70b-versatile\" , \"What is the capital of France?\" , \"English\")"
   ]
  },
  {
   "cell_type": "code",
   "execution_count": 4,
   "id": "95fd223b",
   "metadata": {},
   "outputs": [
    {
     "name": "stdout",
     "output_type": "stream",
     "text": [
      "Stego text: what is steganography​‌‌‌​‌‌‌​‌‌​‌​​​​‌‌​​​​‌​‌‌‌​‌​​\n",
      "Extracted message: what\n"
     ]
    }
   ],
   "source": [
    "def hide_data(visible_text, hidden_message):\n",
    "    binary = ''.join(format(ord(c), '08b') for c in hidden_message)\n",
    "    zero_width = binary.replace('0', '\\u200B').replace('1', '\\u200C')\n",
    "    return visible_text + zero_width\n",
    "\n",
    "def extract_data(stego_text):\n",
    "    hidden = ''.join(c for c in stego_text if c in ['\\u200B', '\\u200C'])\n",
    "    binary = hidden.replace('\\u200B', '0').replace('\\u200C', '1')\n",
    "    chars = [chr(int(binary[i:i+8], 2)) for i in range(0, len(binary), 8)]\n",
    "    return ''.join(chars)\n",
    "\n",
    "# Example\n",
    "text = \"what is steganography\"\n",
    "hidden_word = \"what\"\n",
    "\n",
    "stego = hide_data(text, hidden_word)\n",
    "print(\"Stego text:\", stego)\n",
    "\n",
    "revealed = extract_data(stego)\n",
    "print(\"Extracted message:\", revealed)\n"
   ]
  }
 ],
 "metadata": {
  "kernelspec": {
   "display_name": "torchenv",
   "language": "python",
   "name": "python3"
  },
  "language_info": {
   "codemirror_mode": {
    "name": "ipython",
    "version": 3
   },
   "file_extension": ".py",
   "mimetype": "text/x-python",
   "name": "python",
   "nbconvert_exporter": "python",
   "pygments_lexer": "ipython3",
   "version": "3.11.9"
  }
 },
 "nbformat": 4,
 "nbformat_minor": 5
}
